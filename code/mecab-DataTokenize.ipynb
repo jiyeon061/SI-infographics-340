{
 "cells": [
  {
   "cell_type": "markdown",
   "id": "c87d19b6-1935-4a32-a4da-fb4596226de1",
   "metadata": {},
   "source": [
    "# 라이브러리 Import"
   ]
  },
  {
   "cell_type": "code",
   "execution_count": 1,
   "id": "7021caf3-d49a-4676-ab6a-756183ee49ab",
   "metadata": {},
   "outputs": [],
   "source": [
    "import warnings\n",
    "warnings.simplefilter(action='ignore', category=FutureWarning)\n",
    "\n",
    "from datetime import datetime\n",
    "import numpy as np\n",
    "import pandas as pd\n",
    "import seaborn as sns\n",
    "import matplotlib.pyplot as plt\n",
    "%matplotlib inline\n",
    "\n",
    "import os\n",
    "if os.name == 'nt':\n",
    "    font_family = 'Malgun Gothic'\n",
    "else :\n",
    "    font_family = 'AppleGothic'\n",
    "\n",
    "sns.set(font=font_family, rc={\"axes.unicode_minus\" : False})"
   ]
  },
  {
   "cell_type": "code",
   "execution_count": 2,
   "id": "014f2e74-3434-4480-8fa2-49b2ccbd4681",
   "metadata": {},
   "outputs": [],
   "source": [
    "from konlpy.tag import Mecab\n",
    "mecab = Mecab(dicpath = r\"C:\\mecab\\mecab-ko-dic\")"
   ]
  },
  {
   "cell_type": "code",
   "execution_count": 3,
   "id": "98682986-f6d0-49e4-95d2-0eeee733b582",
   "metadata": {},
   "outputs": [
    {
     "data": {
      "text/plain": [
       "['.ipynb_checkpoints',\n",
       " 'mecab-DataTokenize.ipynb',\n",
       " 'mecab_0109_방향없는매트릭스 - 복사본.ipynb',\n",
       " 'mecab_0109_방향없는매트릭스.ipynb',\n",
       " 'mecab_0113_중복제거count.ipynb',\n",
       " 'mecab_0113_중복제거new.ipynb',\n",
       " 'Untitled2.ipynb']"
      ]
     },
     "execution_count": 3,
     "metadata": {},
     "output_type": "execute_result"
    }
   ],
   "source": [
    "os.listdir('./')"
   ]
  },
  {
   "cell_type": "markdown",
   "id": "71bf6635-5178-41b7-87cc-ebdce251c7cf",
   "metadata": {},
   "source": [
    "# Mecab 사용자사전 추가 코드"
   ]
  },
  {
   "cell_type": "code",
   "execution_count": 5,
   "id": "7c785fd5-b728-409c-984f-acf3e50b8642",
   "metadata": {},
   "outputs": [
    {
     "data": {
      "text/plain": [
       "['대우,,,,NNP,*,F,대우,*,*,*,*,*\\n',\n",
       " '구글,,,,NNP,*,T,구글,*,*,*,*,*\\n',\n",
       " '무지출,,,,NNP,*,F,무지출,*,*,*,*,*\\n',\n",
       " '무소비,,,,NNP,*,F,무소비,*,*,*,*,*\\n',\n",
       " '파이어족,,,,NNP,*,F,파이어족,*,*,*,*,*\\n',\n",
       " '갓생,,,,NNP,*,F,갓생,*,*,*,*,*\\n',\n",
       " '짠테크,,,,NNP,*,F,짠테크,*,*,*,*,*\\n',\n",
       " '짠태크,,,,NNP,*,F,짠태크,*,*,*,*,*\\n',\n",
       " '앱테크,,,,NNP,*,F,앱테크,*,*,*,*,*\\n',\n",
       " '앱태크,,,,NNP,*,F,앱태크,*,*,*,*,*\\n',\n",
       " '인스타,,,,NNP,*,F,인스타,*,*,*,*,*\\n',\n",
       " '카공,,,,NNP,*,F,카공,*,*,*,*,*\\n',\n",
       " '오운완,,,,NNP,*,F,오운완,*,*,*,*,*\\n',\n",
       " '바디프로필,,,,NNP,*,F,바디프로필,*,*,*,*,*\\n',\n",
       " '바프,,,,NNP,*,F,주간바프일기,*,*,*,*,*\\n',\n",
       " '책스타그램,,,,NNP,*,F,책스타그램,*,*,*,*,*\\n',\n",
       " '필테,,,,NNP,*,F,필테,*,*,*,*,*\\n',\n",
       " '헬창,,,,NNP,*,F,헬창,*,*,*,*,*\\n',\n",
       " '크로스핏,,,,NNP,*,F,크로스핏,*,*,*,*,*\\n',\n",
       " '홈트,,,,NNP,*,F,홈트,*,*,*,*,*\\n',\n",
       " '공스타,,,,NNP,*,F,공스타,*,*,*,*,*\\n',\n",
       " '엔잡,,,,NNP,*,F,엔잡,*,*,*,*,*\\n',\n",
       " '냉파,,,,NNP,*,F,냉파,*,*,*,*,*\\n',\n",
       " '스타벅스,,,,NNP,*,F,스타벅스,*,*,*,*,*\\n',\n",
       " '시험공부,,,,NNP,*,F,시험공부,*,*,*,*,*\\n',\n",
       " '주간일기,,,,NNP,*,F,주간일기,*,*,*,*,*\\n']"
      ]
     },
     "execution_count": 5,
     "metadata": {},
     "output_type": "execute_result"
    }
   ],
   "source": [
    "with open('C:/mecab/user-dic/nnp.csv','r',encoding='utf-8') as f:\n",
    "    user_dic = f.readlines()\n",
    "user_dic"
   ]
  },
  {
   "cell_type": "code",
   "execution_count": 6,
   "id": "33efcfb8-6cda-49cf-b211-85b0657dc3e3",
   "metadata": {},
   "outputs": [],
   "source": [
    "# user_dic.append('무지출,,,,NNP,*,F,무지출,*,*,*,*,*\\n')\n",
    "# user_dic.append('무소비,,,,NNP,*,F,무소비,*,*,*,*,*\\n')\n",
    "# user_dic.append('파이어족,,,,NNP,*,F,파이어족,*,*,*,*,*\\n')\n",
    "# user_dic.append('갓생,,,,NNP,*,F,갓생,*,*,*,*,*\\n')\n",
    "# user_dic.append('짠테크,,,,NNP,*,F,짠테크,*,*,*,*,*\\n')\n",
    "# user_dic.append('짠태크,,,,NNP,*,F,짠태크,*,*,*,*,*\\n')\n",
    "# user_dic.append('앱테크,,,,NNP,*,F,앱테크,*,*,*,*,*\\n')\n",
    "# user_dic.append('앱태크,,,,NNP,*,F,앱태크,*,*,*,*,*\\n')\n",
    "# user_dic.append('인스타,,,,NNP,*,F,인스타,*,*,*,*,*\\n')\n",
    "# user_dic.append('카공,,,,NNP,*,F,카공,*,*,*,*,*\\n')\n",
    "# user_dic.append('오운완,,,,NNP,*,F,오운완,*,*,*,*,*\\n')\n",
    "# user_dic.append('바디프로필,,,,NNP,*,F,바디프로필,*,*,*,*,*\\n')\n",
    "# user_dic.append('바프,,,,NNP,*,F,주간바프일기,*,*,*,*,*\\n')\n",
    "# user_dic.append('책스타그램,,,,NNP,*,F,책스타그램,*,*,*,*,*\\n')\n",
    "# user_dic.append('필테,,,,NNP,*,F,필테,*,*,*,*,*\\n')\n",
    "# user_dic.append('헬창,,,,NNP,*,F,헬창,*,*,*,*,*\\n')\n",
    "# user_dic.append('크로스핏,,,,NNP,*,F,크로스핏,*,*,*,*,*\\n')\n",
    "# user_dic.append('홈트,,,,NNP,*,F,홈트,*,*,*,*,*\\n')\n",
    "# user_dic.append('공스타,,,,NNP,*,F,공스타,*,*,*,*,*\\n')\n",
    "# user_dic.append('엔잡,,,,NNP,*,F,엔잡,*,*,*,*,*\\n')\n",
    "# user_dic.append('냉파,,,,NNP,*,F,냉파,*,*,*,*,*\\n')\n",
    "# user_dic.append('스타벅스,,,,NNP,*,F,스타벅스,*,*,*,*,*\\n')\n",
    "# user_dic.append('시험공부,,,,NNP,*,F,시험공부,*,*,*,*,*\\n')\n",
    "# user_dic.append('주간일기,,,,NNP,*,F,주간일기,*,*,*,*,*\\n')"
   ]
  },
  {
   "cell_type": "code",
   "execution_count": 7,
   "id": "54055e19-3996-4f99-a7a2-fb3950a3de24",
   "metadata": {},
   "outputs": [],
   "source": [
    "# with open('C:/mecab/user-dic/nnp.csv','w',encoding='utf-8') as f:\n",
    "#     for line in user_dic:\n",
    "#         f.write(line)\n",
    "# f.close()"
   ]
  },
  {
   "cell_type": "code",
   "execution_count": 10,
   "id": "ca5dfe82-875e-471e-96e2-1026344f7488",
   "metadata": {},
   "outputs": [
    {
     "data": {
      "text/plain": [
       "['R언급량test.csv',\n",
       " 'R언급량test2.csv',\n",
       " 'R엣지링크test.csv',\n",
       " 'R엣지링크test2.csv',\n",
       " '갓생.csv',\n",
       " '갓생_content_합본.csv']"
      ]
     },
     "execution_count": 10,
     "metadata": {},
     "output_type": "execute_result"
    }
   ],
   "source": [
    "os.listdir('../data/')"
   ]
  },
  {
   "cell_type": "markdown",
   "id": "966f4a16-425a-4d10-bf6e-2ee725f3ff99",
   "metadata": {},
   "source": [
    "# 파일 및 불용어 불러오기"
   ]
  },
  {
   "cell_type": "code",
   "execution_count": 12,
   "id": "5c4bcc28-0056-488c-bb84-399c38c76863",
   "metadata": {},
   "outputs": [
    {
     "name": "stdout",
     "output_type": "stream",
     "text": [
      "CPU times: total: 11.2 s\n",
      "Wall time: 11.3 s\n"
     ]
    }
   ],
   "source": [
    "%%time\n",
    "file = pd.read_csv('../data/갓생_content_합본.csv', index_col=0)"
   ]
  },
  {
   "cell_type": "code",
   "execution_count": 13,
   "id": "092f0c31-4c49-494d-8c86-ec87e7be8b3a",
   "metadata": {},
   "outputs": [],
   "source": [
    "df = file.copy()"
   ]
  },
  {
   "cell_type": "code",
   "execution_count": 14,
   "id": "d53e5582-dd63-4aec-a9e0-b2724b162fbe",
   "metadata": {},
   "outputs": [],
   "source": [
    "with open('../data/stopwords.txt', 'r', encoding='utf8') as f:\n",
    "    lines = f.readlines()\n",
    "stopwords = [line.rstrip('\\n') for line in lines]"
   ]
  },
  {
   "cell_type": "markdown",
   "id": "f36847df-d94d-4ada-9779-ba0e8ecded24",
   "metadata": {},
   "source": [
    "## 불용어추가"
   ]
  },
  {
   "cell_type": "code",
   "execution_count": 15,
   "id": "74f442be-3608-4799-8b0a-bd1237aa2589",
   "metadata": {},
   "outputs": [],
   "source": [
    "stopwords\n",
    "_stops_ver2 = ['처음', '날', '하루', '마지막', '기분', '거', '올해', '요즘', '화요일', '전날', '건강', '치즈', '안녕', '사람', '건지', '정신', '최고', '친구', '걸로', '생각', '사랑', '토요일', '가게', '마음', '저번', \n",
    "               '목요일', '아침', '여자', '진행', '조아', '얼굴', '소리', '와중', '이날', '정도', '건데', '생일', '이건', '이름', '언니', '아빠', '우리', '오랜만', '사장', '추천', '음식', '오빠', '고양이', '구경', '내', \n",
    "               '수', '그거', '동생', '자리', '이야기', '때문', '완전', '스티커', '준비', '가능', '가격', '금요일', '가지', '산책', '사이', '영상', '성호', '미안', '수요일', '남자', '나름', '바람', '기억', '자체', '저녁', \n",
    "               '일요일', '게', '누가', '하늘', '날씨', '근처', '세상', '이게', '이거', '가을', '이후', '덕분', '뭔가', '맥주', '엄마', '얘기', '고민', '분위기', '월요일', '나중', '고기', '계절', '감사', '저거', '머리', '모습',\n",
    "              '사진']\n",
    "stopwords = stopwords + _stops_ver2"
   ]
  },
  {
   "cell_type": "code",
   "execution_count": 16,
   "id": "34088df6-115a-4aba-a97b-1655c82d64e1",
   "metadata": {},
   "outputs": [],
   "source": [
    "def mk_n_job(x): # N잡 잡기위한 코드\n",
    "    x = str(x).replace('\\n', \"  \")\n",
    "    x = str(x).replace('n잡', \"엔잡\")\n",
    "    x = str(x).replace('N잡', \"엔잡\")\n",
    "    x = str(x).replace('시험 공부', \"시험공부\")\n",
    "    x = str(x).replace('주간 일기', \"주간일기\")\n",
    "    return x\n",
    "df['content'] = df['content'].apply(lambda x:mk_n_job(x))"
   ]
  },
  {
   "cell_type": "markdown",
   "id": "4fa3f82a-eb5d-42cd-92ee-4b13012690de",
   "metadata": {},
   "source": [
    "# Mecab으로 명사 추출"
   ]
  },
  {
   "cell_type": "code",
   "execution_count": 17,
   "id": "9126b543-591e-41f7-8d03-d83b51783cbb",
   "metadata": {},
   "outputs": [
    {
     "name": "stdout",
     "output_type": "stream",
     "text": [
      "CPU times: total: 15min 36s\n",
      "Wall time: 15min 36s\n"
     ]
    }
   ],
   "source": [
    "%%time\n",
    "nouns = list()\n",
    "all_tokens = list()\n",
    "\n",
    "for i in df['content']:\n",
    "    noun = list()\n",
    "    for x in mecab.nouns(str(i)):\n",
    "        if x not in stopwords:\n",
    "            noun.append(x)\n",
    "    nouns.append(noun)\n",
    "\n",
    "df['tokens'] = nouns"
   ]
  },
  {
   "cell_type": "code",
   "execution_count": 18,
   "id": "00330b27-1ab2-4103-ab8b-2b055338a4d3",
   "metadata": {},
   "outputs": [
    {
     "data": {
      "text/html": [
       "<div>\n",
       "<style scoped>\n",
       "    .dataframe tbody tr th:only-of-type {\n",
       "        vertical-align: middle;\n",
       "    }\n",
       "\n",
       "    .dataframe tbody tr th {\n",
       "        vertical-align: top;\n",
       "    }\n",
       "\n",
       "    .dataframe thead th {\n",
       "        text-align: right;\n",
       "    }\n",
       "</style>\n",
       "<table border=\"1\" class=\"dataframe\">\n",
       "  <thead>\n",
       "    <tr style=\"text-align: right;\">\n",
       "      <th></th>\n",
       "      <th>content</th>\n",
       "      <th>tokens</th>\n",
       "    </tr>\n",
       "  </thead>\n",
       "  <tbody>\n",
       "    <tr>\n",
       "      <th>0</th>\n",
       "      <td>1. 성취  1) 개발자로 커리어 전환  그래픽 디자이너를 그만두고 프론트엔드 개발...</td>\n",
       "      <td>[성취, 개발자, 커리어, 전환, 그래픽, 디자이너, 프론트엔드, 개발자, 취업, ...</td>\n",
       "    </tr>\n",
       "    <tr>\n",
       "      <th>1</th>\n",
       "      <td>2021년은 정말이지 갓생,갓생 그 자체를 살았다고 자부한다. 근거는 사진으로 설명...</td>\n",
       "      <td>[갓생, 갓생, 자부, 근거, 설명, 파워, 블로거, 성공, 허세, 피, 말, 체지...</td>\n",
       "    </tr>\n",
       "    <tr>\n",
       "      <th>2</th>\n",
       "      <td>12.25 코스트코 갔다 왔다 사람 대박 많아…  리코타 과일 샐러드 6900 치킨...</td>\n",
       "      <td>[코스트코, 대박, 리코타, 과일, 샐러드, 치킨, 베, 이크, 샐러드, 양, 불고...</td>\n",
       "    </tr>\n",
       "    <tr>\n",
       "      <th>3</th>\n",
       "      <td>새벽에 일하다 갑자기 현타와서 유튜브랑 어벤져스봄ㅠㅜ...  1월 1일부터는 갓생살...</td>\n",
       "      <td>[새벽, 타, 유튜브, 어벤져스, 봄, 갓생, 책, 치열, 계획, 정량, 필요]</td>\n",
       "    </tr>\n",
       "    <tr>\n",
       "      <th>4</th>\n",
       "      <td>온서울건강온 신청해 봄  운동하면 포인트주는 거 ㅎㅎ 갓생산다 (오천번째말하는중) ...</td>\n",
       "      <td>[서울, 신청, 봄, 운동, 포인트, 갓생, 산다, 천, 번, 말, 중, 워치, 배...</td>\n",
       "    </tr>\n",
       "  </tbody>\n",
       "</table>\n",
       "</div>"
      ],
      "text/plain": [
       "                                             content  \\\n",
       "0  1. 성취  1) 개발자로 커리어 전환  그래픽 디자이너를 그만두고 프론트엔드 개발...   \n",
       "1  2021년은 정말이지 갓생,갓생 그 자체를 살았다고 자부한다. 근거는 사진으로 설명...   \n",
       "2  12.25 코스트코 갔다 왔다 사람 대박 많아…  리코타 과일 샐러드 6900 치킨...   \n",
       "3  새벽에 일하다 갑자기 현타와서 유튜브랑 어벤져스봄ㅠㅜ...  1월 1일부터는 갓생살...   \n",
       "4  온서울건강온 신청해 봄  운동하면 포인트주는 거 ㅎㅎ 갓생산다 (오천번째말하는중) ...   \n",
       "\n",
       "                                              tokens  \n",
       "0  [성취, 개발자, 커리어, 전환, 그래픽, 디자이너, 프론트엔드, 개발자, 취업, ...  \n",
       "1  [갓생, 갓생, 자부, 근거, 설명, 파워, 블로거, 성공, 허세, 피, 말, 체지...  \n",
       "2  [코스트코, 대박, 리코타, 과일, 샐러드, 치킨, 베, 이크, 샐러드, 양, 불고...  \n",
       "3       [새벽, 타, 유튜브, 어벤져스, 봄, 갓생, 책, 치열, 계획, 정량, 필요]  \n",
       "4  [서울, 신청, 봄, 운동, 포인트, 갓생, 산다, 천, 번, 말, 중, 워치, 배...  "
      ]
     },
     "execution_count": 18,
     "metadata": {},
     "output_type": "execute_result"
    }
   ],
   "source": [
    "df.head()"
   ]
  },
  {
   "cell_type": "code",
   "execution_count": 21,
   "id": "1a96f326-f770-4bc7-8272-242eace6161b",
   "metadata": {},
   "outputs": [],
   "source": [
    "def del_wrong_str_book(x):\n",
    "    return [word for word in x if (len(word)>1) or (word == '책')]"
   ]
  },
  {
   "cell_type": "code",
   "execution_count": 22,
   "id": "44722753-9512-42ba-acc6-9ebbeaaf7b9b",
   "metadata": {},
   "outputs": [],
   "source": [
    "df['tokens'] = df['tokens'].apply(lambda x:del_wrong_str_book(x))"
   ]
  },
  {
   "cell_type": "code",
   "execution_count": 23,
   "id": "aa520cd3-51fb-4033-abf1-59b64f31dd89",
   "metadata": {},
   "outputs": [],
   "source": [
    "df.to_csv('../data/갓생_tokenized.csv')"
   ]
  },
  {
   "cell_type": "code",
   "execution_count": null,
   "id": "097446ed-69eb-4212-a1d1-65e7e4a31b0b",
   "metadata": {},
   "outputs": [],
   "source": []
  }
 ],
 "metadata": {
  "kernelspec": {
   "display_name": "Python 3 (ipykernel)",
   "language": "python",
   "name": "python3"
  },
  "language_info": {
   "codemirror_mode": {
    "name": "ipython",
    "version": 3
   },
   "file_extension": ".py",
   "mimetype": "text/x-python",
   "name": "python",
   "nbconvert_exporter": "python",
   "pygments_lexer": "ipython3",
   "version": "3.8.16"
  }
 },
 "nbformat": 4,
 "nbformat_minor": 5
}
