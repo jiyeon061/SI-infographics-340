{
 "cells": [
  {
   "cell_type": "code",
   "execution_count": 1,
   "id": "202b59f3",
   "metadata": {},
   "outputs": [],
   "source": [
    "import requests\n",
    "import urllib.request\n",
    "from bs4 import BeautifulSoup\n",
    "from tqdm.notebook import tqdm"
   ]
  },
  {
   "cell_type": "code",
   "execution_count": 2,
   "id": "9e5c8ec8",
   "metadata": {},
   "outputs": [],
   "source": [
    "import pandas as pd"
   ]
  },
  {
   "cell_type": "code",
   "execution_count": 3,
   "id": "401255f2",
   "metadata": {},
   "outputs": [
    {
     "data": {
      "text/plain": [
       "['R언급량test.csv',\n",
       " 'R언급량test2.csv',\n",
       " 'R엣지링크test.csv',\n",
       " 'R엣지링크test2.csv',\n",
       " 'stopwords.txt',\n",
       " '갓생.csv',\n",
       " '갓생_2022.csv',\n",
       " '갓생_content_합본.csv',\n",
       " '갓생_tokenized.csv']"
      ]
     },
     "execution_count": 3,
     "metadata": {},
     "output_type": "execute_result"
    }
   ],
   "source": [
    "import os\n",
    "os.listdir('../data/')"
   ]
  },
  {
   "cell_type": "code",
   "execution_count": 4,
   "id": "deef2fe5",
   "metadata": {},
   "outputs": [],
   "source": [
    "file = pd.read_csv('../data/갓생_2022.csv', index_col=0)"
   ]
  },
  {
   "cell_type": "code",
   "execution_count": 5,
   "id": "01592c76",
   "metadata": {},
   "outputs": [],
   "source": [
    "from tqdm import tqdm_notebook"
   ]
  },
  {
   "cell_type": "code",
   "execution_count": 6,
   "id": "7d305b8a",
   "metadata": {},
   "outputs": [],
   "source": [
    "url_list =file['url']"
   ]
  },
  {
   "cell_type": "markdown",
   "id": "d37bfaf7-36cf-4fd4-abd5-e12e00995a9e",
   "metadata": {},
   "source": [
    "# test 10개 크롤링"
   ]
  },
  {
   "cell_type": "code",
   "execution_count": 7,
   "id": "a1347265",
   "metadata": {},
   "outputs": [
    {
     "data": {
      "application/vnd.jupyter.widget-view+json": {
       "model_id": "73475c754fb04296b54504d846c7b03c",
       "version_major": 2,
       "version_minor": 0
      },
      "text/plain": [
       "  0%|          | 0/10 [00:00<?, ?it/s]"
      ]
     },
     "metadata": {},
     "output_type": "display_data"
    }
   ],
   "source": [
    "result = pd.DataFrame(columns=['url', 'content'])\n",
    "\n",
    "# for i in tqdm(range(0, len(file))):\n",
    "for i in tqdm(range(0, 10)):\n",
    "    try:\n",
    "        res = requests.get(url_list[i])\n",
    "        soup = BeautifulSoup(res.text, 'lxml')\n",
    "        src_address = \"http://blog.naver.com/\" + soup.iframe[\"src\"]\n",
    "        \n",
    "        res = requests.get(src_address)\n",
    "        soup = BeautifulSoup(res.text, 'lxml')\n",
    "        \n",
    "        text= soup.find_all(\"div\", class_= \"se-module se-module-text\")\n",
    "        \n",
    "        string_list = list()\n",
    "        \n",
    "        for t in text:\n",
    "            _str = t.get_text()\n",
    "            string_list.append(_str)\n",
    "            \n",
    "        result.loc[len(result)] = [url_list[i], string_list]\n",
    "    except:\n",
    "        continue"
   ]
  },
  {
   "cell_type": "code",
   "execution_count": 9,
   "id": "712851d4",
   "metadata": {},
   "outputs": [
    {
     "data": {
      "text/plain": [
       "0                                                   []\n",
       "1    [\\n내년이면 서른이다.벌써 93년생이 서른이 되는 해가 온 것이다.​하지만 서른이...\n",
       "2                                                   []\n",
       "3                                                   []\n",
       "4    [\\n1월 회계학원 시작, 셒구워크숍2월 회계학원을 계속 다님. 컴활1급 계속 떨어...\n",
       "5                                                   []\n",
       "6                                                   []\n",
       "7                                                   []\n",
       "8    [\\n​벌써 12월이라는데 믿을 수가 업써...12월 목표 소비 줄이기...특히 옷...\n",
       "9    [\\n*욕밖에 없으니 긍정적으로 한 해를 마무리 하고 싶은 사람은 보지 않는 걸 추...\n",
       "Name: content, dtype: object"
      ]
     },
     "execution_count": 9,
     "metadata": {},
     "output_type": "execute_result"
    }
   ],
   "source": [
    "result['content']"
   ]
  },
  {
   "cell_type": "code",
   "execution_count": null,
   "id": "60516259",
   "metadata": {},
   "outputs": [],
   "source": []
  }
 ],
 "metadata": {
  "kernelspec": {
   "display_name": "Python 3 (ipykernel)",
   "language": "python",
   "name": "python3"
  },
  "language_info": {
   "codemirror_mode": {
    "name": "ipython",
    "version": 3
   },
   "file_extension": ".py",
   "mimetype": "text/x-python",
   "name": "python",
   "nbconvert_exporter": "python",
   "pygments_lexer": "ipython3",
   "version": "3.8.16"
  },
  "toc": {
   "base_numbering": 1,
   "nav_menu": {},
   "number_sections": true,
   "sideBar": true,
   "skip_h1_title": false,
   "title_cell": "Table of Contents",
   "title_sidebar": "Contents",
   "toc_cell": false,
   "toc_position": {},
   "toc_section_display": true,
   "toc_window_display": false
  }
 },
 "nbformat": 4,
 "nbformat_minor": 5
}
