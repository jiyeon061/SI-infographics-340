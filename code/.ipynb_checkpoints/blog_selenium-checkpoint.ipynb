{
 "cells": [
  {
   "cell_type": "markdown",
   "id": "96183638-212d-43a4-afe4-8cacc4eb2c48",
   "metadata": {},
   "source": [
    "# Selenium 크롤러"
   ]
  },
  {
   "cell_type": "code",
   "execution_count": 5,
   "id": "06418cfb",
   "metadata": {},
   "outputs": [],
   "source": [
    "from tqdm import tqdm_notebook\n",
    "from tqdm.notebook import tqdm\n",
    "import pandas as pd\n",
    "from selenium import webdriver\n",
    "from selenium.webdriver.common.by import By\n",
    "import datetime"
   ]
  },
  {
   "cell_type": "code",
   "execution_count": 6,
   "id": "446754c5",
   "metadata": {},
   "outputs": [
    {
     "data": {
      "text/plain": [
       "['R언급량test.csv',\n",
       " 'R언급량test2.csv',\n",
       " 'R엣지링크test.csv',\n",
       " 'R엣지링크test2.csv',\n",
       " 'stopwords.txt',\n",
       " '갓생.csv',\n",
       " '갓생_2022.csv',\n",
       " '갓생_content_합본.csv',\n",
       " '갓생_tokenized.csv']"
      ]
     },
     "execution_count": 6,
     "metadata": {},
     "output_type": "execute_result"
    }
   ],
   "source": [
    "import os\n",
    "os.listdir('../data/') # url 폴더에 어떤 파일이 있는지 확인"
   ]
  },
  {
   "cell_type": "code",
   "execution_count": 12,
   "id": "080b05f4",
   "metadata": {},
   "outputs": [],
   "source": [
    "file_name = '갓생_2022.csv'\n",
    "url_list = pd.read_csv('../data/갓생_2022.csv', index_col=0)"
   ]
  },
  {
   "cell_type": "code",
   "execution_count": 13,
   "id": "80380d31-1af9-4fe5-ad3a-c4b175bf71a7",
   "metadata": {},
   "outputs": [
    {
     "data": {
      "text/html": [
       "<div>\n",
       "<style scoped>\n",
       "    .dataframe tbody tr th:only-of-type {\n",
       "        vertical-align: middle;\n",
       "    }\n",
       "\n",
       "    .dataframe tbody tr th {\n",
       "        vertical-align: top;\n",
       "    }\n",
       "\n",
       "    .dataframe thead th {\n",
       "        text-align: right;\n",
       "    }\n",
       "</style>\n",
       "<table border=\"1\" class=\"dataframe\">\n",
       "  <thead>\n",
       "    <tr style=\"text-align: right;\">\n",
       "      <th></th>\n",
       "      <th>url</th>\n",
       "    </tr>\n",
       "  </thead>\n",
       "  <tbody>\n",
       "    <tr>\n",
       "      <th>0</th>\n",
       "      <td>https://blog.naver.com/owogy/222609847793</td>\n",
       "    </tr>\n",
       "    <tr>\n",
       "      <th>1</th>\n",
       "      <td>https://blog.naver.com/sjksnow/222609841004</td>\n",
       "    </tr>\n",
       "    <tr>\n",
       "      <th>2</th>\n",
       "      <td>https://blog.naver.com/wlgml3742/222609846552</td>\n",
       "    </tr>\n",
       "    <tr>\n",
       "      <th>3</th>\n",
       "      <td>https://blog.naver.com/minyung1240/222609810405</td>\n",
       "    </tr>\n",
       "    <tr>\n",
       "      <th>4</th>\n",
       "      <td>https://blog.naver.com/doublestepthatswhy/2226...</td>\n",
       "    </tr>\n",
       "    <tr>\n",
       "      <th>...</th>\n",
       "      <td>...</td>\n",
       "    </tr>\n",
       "    <tr>\n",
       "      <th>254476</th>\n",
       "      <td>https://blog.naver.com/amoureuxzz/222971512674</td>\n",
       "    </tr>\n",
       "    <tr>\n",
       "      <th>254477</th>\n",
       "      <td>https://blog.naver.com/waterlight33/222971510182</td>\n",
       "    </tr>\n",
       "    <tr>\n",
       "      <th>254478</th>\n",
       "      <td>https://blog.naver.com/kong1264k/222971511604</td>\n",
       "    </tr>\n",
       "    <tr>\n",
       "      <th>254479</th>\n",
       "      <td>https://blog.naver.com/nahyun050405/222971512079</td>\n",
       "    </tr>\n",
       "    <tr>\n",
       "      <th>254480</th>\n",
       "      <td>https://blog.naver.com/monica3035/222971513959</td>\n",
       "    </tr>\n",
       "  </tbody>\n",
       "</table>\n",
       "<p>254481 rows × 1 columns</p>\n",
       "</div>"
      ],
      "text/plain": [
       "                                                      url\n",
       "0               https://blog.naver.com/owogy/222609847793\n",
       "1             https://blog.naver.com/sjksnow/222609841004\n",
       "2           https://blog.naver.com/wlgml3742/222609846552\n",
       "3         https://blog.naver.com/minyung1240/222609810405\n",
       "4       https://blog.naver.com/doublestepthatswhy/2226...\n",
       "...                                                   ...\n",
       "254476     https://blog.naver.com/amoureuxzz/222971512674\n",
       "254477   https://blog.naver.com/waterlight33/222971510182\n",
       "254478      https://blog.naver.com/kong1264k/222971511604\n",
       "254479   https://blog.naver.com/nahyun050405/222971512079\n",
       "254480     https://blog.naver.com/monica3035/222971513959\n",
       "\n",
       "[254481 rows x 1 columns]"
      ]
     },
     "execution_count": 13,
     "metadata": {},
     "output_type": "execute_result"
    }
   ],
   "source": [
    "url_list"
   ]
  },
  {
   "cell_type": "code",
   "execution_count": 14,
   "id": "e07261e0",
   "metadata": {},
   "outputs": [],
   "source": [
    "url_list = list(url_list['url'])"
   ]
  },
  {
   "cell_type": "code",
   "execution_count": 15,
   "id": "2d2655df",
   "metadata": {},
   "outputs": [],
   "source": [
    "# 크롤링한 내용 담을 DataFrame\n",
    "df = pd.DataFrame(columns=['title', 'nickname', 'content', 'date', 'tags'])"
   ]
  },
  {
   "cell_type": "markdown",
   "id": "088c2348-5af7-44ef-acb6-5aefe4380969",
   "metadata": {},
   "source": [
    "## Test 10개만 돌려보기"
   ]
  },
  {
   "cell_type": "code",
   "execution_count": 16,
   "id": "97a07f2e",
   "metadata": {},
   "outputs": [
    {
     "name": "stderr",
     "output_type": "stream",
     "text": [
      "C:\\Users\\si\\AppData\\Local\\Temp\\ipykernel_11892\\1517268150.py:4: DeprecationWarning: use options instead of chrome_options\n",
      "  driver = webdriver.Chrome(path, chrome_options=options)\n"
     ]
    },
    {
     "data": {
      "application/vnd.jupyter.widget-view+json": {
       "model_id": "61adf3ce339f455793e0b24c0afc524e",
       "version_major": 2,
       "version_minor": 0
      },
      "text/plain": [
       "  0%|          | 0/10 [00:00<?, ?it/s]"
      ]
     },
     "metadata": {},
     "output_type": "display_data"
    }
   ],
   "source": [
    "path = \"chromedriver\" # 웹드라이버 실행\n",
    "options = webdriver.ChromeOptions()\n",
    "options.add_argument('headless')\n",
    "driver = webdriver.Chrome(path, chrome_options=options)\n",
    "list_error = list()\n",
    "\n",
    "# for i in tqdm_notebook(range(0, len(url_list))):\n",
    "for i in tqdm(range(0, 10)):    \n",
    "#     print(i)\n",
    "    \n",
    "    driver.get(url_list[i])\n",
    "    \n",
    "    \n",
    "    try:\n",
    "        driver.switch_to.frame(\"mainFrame\")\n",
    "        target_info = {}\n",
    "        \n",
    "        try: # 제목\n",
    "            overlays = 'se-module.se-module-text.se-title-text'\n",
    "            title = driver.find_element(By.CLASS_NAME, overlays).text\n",
    "            \n",
    "        except:\n",
    "            title = ' '\n",
    "            \n",
    "        try: # 날짜\n",
    "            overlays = 'se_publishDate.pcol2'\n",
    "            date = driver.find_element(By.CLASS_NAME, overlays).text\n",
    "#             date = datetime.datetime.strptime(day,'%Y-%m-%d')\n",
    "            \n",
    "        except:\n",
    "            date = ' '\n",
    "        \n",
    "        try: # 글작성자\n",
    "            overlays = 'link.pcol2'\n",
    "            author = driver.find_element(By.CLASS_NAME, overlays).text\n",
    "            \n",
    "        except:\n",
    "            author = ' '\n",
    "            \n",
    "        try: # 콘텐츠 (글 내용)\n",
    "            overlays = \"se-component.se-text.se-l-default\"\n",
    "            contents = driver.find_elements(By.CLASS_NAME, overlays)\n",
    "            content_list = []\n",
    "            \n",
    "            for c in contents:\n",
    "                content_list.append(c.text)\n",
    "                \n",
    "            content_str = ' '.join(content_list)\n",
    "            \n",
    "        except:\n",
    "            content_str = ' '\n",
    "            \n",
    "        try: # 태그 크롤링\n",
    "            overlays = \"post_footer_contents\" \n",
    "            tags = driver.find_element(By.CLASS_NAME, overlays).text\n",
    "            \n",
    "        except:\n",
    "            tags = ' '\n",
    "        \n",
    "        target_info['title'] = title\n",
    "        target_info['nickname'] = author\n",
    "        target_info['content'] = content_str\n",
    "        target_info['date'] = date\n",
    "        target_info['tags'] = tags\n",
    "    \n",
    "        df1 = pd.DataFrame(target_info, index = [i])\n",
    "        df = pd.concat([df, df1])\n",
    "      \n",
    "    except:\n",
    "        list_error.append(i)\n",
    "        continue"
   ]
  },
  {
   "cell_type": "code",
   "execution_count": 18,
   "id": "b60a218d",
   "metadata": {},
   "outputs": [
    {
     "data": {
      "text/plain": [
       "1    내년이면 서른이다.\\n벌써 93년생이 서른이 되는 해가 온 것이다.\\n하지만 서른이...\n",
       "4    1월 회계학원 시작, 셒구워크숍\\n2월 회계학원을 계속 다님. 컴활1급 계속 떨어지...\n",
       "7                                                     \n",
       "8    벌써 12월이라는데 믿을 수가 업써...\\n12월 목표 소비 줄이기...\\n특히 옷...\n",
       "9    *욕밖에 없으니 긍정적으로 한 해를 마무리 하고 싶은 사람은 보지 않는 걸 추천함\\...\n",
       "Name: content, dtype: object"
      ]
     },
     "execution_count": 18,
     "metadata": {},
     "output_type": "execute_result"
    }
   ],
   "source": [
    "# 크롤링 잘 됐는지 확인\n",
    "df['content']"
   ]
  }
 ],
 "metadata": {
  "kernelspec": {
   "display_name": "Python 3 (ipykernel)",
   "language": "python",
   "name": "python3"
  },
  "language_info": {
   "codemirror_mode": {
    "name": "ipython",
    "version": 3
   },
   "file_extension": ".py",
   "mimetype": "text/x-python",
   "name": "python",
   "nbconvert_exporter": "python",
   "pygments_lexer": "ipython3",
   "version": "3.8.16"
  },
  "toc": {
   "base_numbering": 1,
   "nav_menu": {},
   "number_sections": true,
   "sideBar": true,
   "skip_h1_title": false,
   "title_cell": "Table of Contents",
   "title_sidebar": "Contents",
   "toc_cell": false,
   "toc_position": {},
   "toc_section_display": true,
   "toc_window_display": false
  }
 },
 "nbformat": 4,
 "nbformat_minor": 5
}
